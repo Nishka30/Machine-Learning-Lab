{
  "cells": [
    {
      "cell_type": "code",
      "execution_count": null,
      "metadata": {},
      "outputs": [],
      "source": [
        "def f(x):\n",
        "    return x*x*x\n",
        "import numpy as np\n",
        "a=np.arange(20)**3\n",
        "print(a)\n",
        "b=np.array([[7,8],[9,11]])\n",
        "print(a[b])\n",
        "\n",
        "# If you try to access indices [9, 21], it will result in an IndexError because the maximum index in the second dimension is 1 (since 'a' is a 2x2 matrix). The valid indices for the second dimension are 0 and 1. If you attempt to access an index beyond the valid range, you will get an IndexError. Therefore, attempting to access a[1, 1, 21] would raise an error."
      ]
    }
  ],
  "metadata": {
    "kernelspec": {
      "display_name": "Python (Pyodide)",
      "language": "python",
      "name": "python"
    },
    "language_info": {
      "codemirror_mode": {
        "name": "python",
        "version": 3
      },
      "file_extension": ".py",
      "mimetype": "text/x-python",
      "name": "python",
      "nbconvert_exporter": "python",
      "pygments_lexer": "ipython3",
      "version": "3.8"
    }
  },
  "nbformat": 4,
  "nbformat_minor": 4
}
