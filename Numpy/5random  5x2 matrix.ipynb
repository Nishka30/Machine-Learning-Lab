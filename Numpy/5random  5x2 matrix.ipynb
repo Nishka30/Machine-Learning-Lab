{
  "cells": [
    {
      "cell_type": "code",
      "execution_count": null,
      "metadata": {},
      "outputs": [],
      "source": [
        "import numpy as np\n",
        "a=np.random.randint(1,10,(5,2))\n",
        "a=np.array(a,dtype=float)\n",
        "print(\"Matrix A\\n\",a,\"\\n\\n\")\n",
        "b=np.random.randint(1,10,(5,2))\n",
        "print(\"Matrix B\\n\",b,\"\\n\\n\")\n",
        "a+=b\n",
        "print(\"After addition\\n\",a)\n",
        "\n",
        "\n",
        "\n",
        "# the key point is that the order of operations matters when the operation involves different data types. In the case of NumPy, the += operation is in-place, meaning it modifies the original array directly.\n",
        "\n",
        "# As a result, a += b and b += a will not yield the same result because the order of operations affects which matrix is modified and how the addition is performed due to the data type differences.\n",
        "\n",
        "# To resolve this problem and ensure consistency, you can perform the addition using a temporary variable:\n",
        "\n",
        "# python\n",
        "# Copy code\n",
        "# # Create a copy of matrix a\n",
        "# a_copy = a.copy()\n",
        "\n",
        "# # Perform addition: a += b and b += a_copy\n",
        "# a += b\n",
        "# b += a_copy\n",
        "# By using a temporary copy of a (a_copy), you ensure that both operations are consistent, and each matrix is modified based on the original values before any addition.\n",
        "\n",
        "\n",
        "\n",
        "\n"
      ]
    }
  ],
  "metadata": {
    "kernelspec": {
      "display_name": "Python (Pyodide)",
      "language": "python",
      "name": "python"
    },
    "language_info": {
      "codemirror_mode": {
        "name": "python",
        "version": 3
      },
      "file_extension": ".py",
      "mimetype": "text/x-python",
      "name": "python",
      "nbconvert_exporter": "python",
      "pygments_lexer": "ipython3",
      "version": "3.8"
    }
  },
  "nbformat": 4,
  "nbformat_minor": 4
}
